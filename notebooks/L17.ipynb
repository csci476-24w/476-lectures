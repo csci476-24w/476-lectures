{
 "cells": [
  {
   "cell_type": "markdown",
   "id": "c3109b7e-0092-47a3-aca2-288e745731ba",
   "metadata": {
    "editable": true,
    "slideshow": {
     "slide_type": ""
    },
    "tags": []
   },
   "source": [
    "## Lecture 17-34"
   ]
  },
  {
   "cell_type": "markdown",
   "id": "c0357b50-2962-423e-85f1-80217ec3d134",
   "metadata": {},
   "source": [
    "#### Announcements\n",
    "\n",
    "* Syllabus clarification: you *can* use slip days on P4. You (576) can't use slip days on G2.\n",
    "* (576) G2 checkin\n",
    "* No Week 10 problems\n",
    "  * End of Quarter Homework Self-Reflection due Sunday night instead\n",
    "* Grading / feedback status: pretty behind =(\n",
    "  * P2 grades are out\n",
    "  * Next up: midterm wrappers; aiming for Thursday\n",
    "  * P3, P4 to follow"
   ]
  },
  {
   "cell_type": "markdown",
   "id": "38efd636-c09e-4d1f-a828-33e0fcc75686",
   "metadata": {
    "editable": true,
    "slideshow": {
     "slide_type": ""
    },
    "tags": []
   },
   "source": [
    "#### Goals\n",
    "* Have fun and learn some things.\n",
    "* Ask at least one question."
   ]
  },
  {
   "cell_type": "markdown",
   "id": "7d50fe24-44a6-49b3-af23-8b98ab99a701",
   "metadata": {},
   "source": [
    "#### An Ambitious List of Topics\n",
    "\n",
    "Modern convnets: Alexnet -> VGG -> Inception -> ResNet -> ...\n",
    "\n",
    "Okay but the data cost\n",
    "\n",
    "* Transfer learning - finetuning\n",
    "* Un/self-supervised Learning - Contrastive Learning\n",
    "\n",
    "Other applications: \n",
    "\n",
    "* object detection (get boxy)\n",
    "* {semantic,instance,panoptic} segmentation\n",
    "* Literally every other corner of computer vision\n",
    "\n",
    "\"manifold learning\" and autoencoders\n",
    "\n",
    "Pure generative models:\n",
    "\n",
    "* Generative Adversarial Networks\n",
    "* Diffusion models\n",
    "  * https://www.chenyang.co/diffusion.html\n",
    "* Stable Diffusion\n",
    "\n",
    "Language and vision:\n",
    "\n",
    "* CLIP, DALL-E*"
   ]
  }
 ],
 "metadata": {
  "kernelspec": {
   "display_name": "Python 3 (ipykernel)",
   "language": "python",
   "name": "python3"
  },
  "language_info": {
   "codemirror_mode": {
    "name": "ipython",
    "version": 3
   },
   "file_extension": ".py",
   "mimetype": "text/x-python",
   "name": "python",
   "nbconvert_exporter": "python",
   "pygments_lexer": "ipython3",
   "version": "3.11.2"
  }
 },
 "nbformat": 4,
 "nbformat_minor": 5
}
