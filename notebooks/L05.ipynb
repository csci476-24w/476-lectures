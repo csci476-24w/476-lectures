{
 "cells": [
  {
   "cell_type": "markdown",
   "id": "c3109b7e-0092-47a3-aca2-288e745731ba",
   "metadata": {
    "editable": true,
    "slideshow": {
     "slide_type": ""
    },
    "tags": []
   },
   "source": [
    "## Lecture 5"
   ]
  },
  {
   "cell_type": "markdown",
   "id": "c0357b50-2962-423e-85f1-80217ec3d134",
   "metadata": {},
   "source": [
    "#### Announcements\n",
    "\n",
    "* Faculty candidate talks coming up!\n",
    "    * TszChiu Au (Multirobot Systems, from a seemingly mathy angle)\n",
    "      * Thursday 1/25 4pm CF 105 Research Talk: TODO\n",
    "      * Friday 1/26 4pm CF 316 Teaching Demo: TODO\n",
    "    * Alli Nilles\n",
    "        * Monday 1/29 4pm CF 105 Research Talk: TODO\n",
    "        * Tuesday 1/30 4pm CF 316 Teaching Demo: TODO\n",
    "    * Brad McCoy (Computational Topology)\n",
    "        * Thursday 2/1 4pm CF 105 Research Talk: An Invitation to Computational Topology\n",
    "        * Friday 2/2 4pm CF 316 Teaching Demo: Dynamic Programming and Edit Distance\n",
    "\n"
   ]
  },
  {
   "cell_type": "markdown",
   "id": "38efd636-c09e-4d1f-a828-33e0fcc75686",
   "metadata": {
    "editable": true,
    "slideshow": {
     "slide_type": ""
    },
    "tags": []
   },
   "source": [
    "#### Goals\n",
    "* Know what is meant by **local image features**.\n",
    "* Understand the motivation for **detecting**, **describing**, and **matching** local image **features**.\n",
    "* Understand why **uniqueness** and **invariance** are desirable properties of features and their descriptors.\n",
    "* Know how to detect corner features using the Harris corner detector."
   ]
  },
  {
   "cell_type": "code",
   "execution_count": null,
   "id": "4a295613-e6e3-4f35-b603-27b158385acc",
   "metadata": {},
   "outputs": [],
   "source": [
    "# boilerplate setup\n",
    "%load_ext autoreload\n",
    "%autoreload 2\n",
    "\n",
    "%matplotlib inline\n",
    "\n",
    "import os\n",
    "import sys\n",
    "\n",
    "src_path = os.path.abspath(\"../src\")\n",
    "if (src_path not in sys.path):\n",
    "    sys.path.insert(0, src_path)\n",
    "\n",
    "# Library imports\n",
    "import numpy as np\n",
    "import imageio.v3 as imageio\n",
    "import matplotlib.pyplot as plt\n",
    "import skimage as skim\n",
    "import cv2\n",
    "\n",
    "# codebase imports\n",
    "import util\n",
    "import filtering"
   ]
  },
  {
   "cell_type": "markdown",
   "id": "c6ed4ad7-132d-4906-8a67-fae476b90b39",
   "metadata": {},
   "source": [
    "#### Plan\n",
    "* Brief slides - (recap) setup for feature matching\n",
    "* Which points should we try to match, and how should we describe them?\n",
    "* Uniqueness and invariance\n",
    "* Arrive at: corner features, local uniqueness; address invariance with the descriptor\n",
    "* Corner finding: whiteboard discussion; error function visualization demo; whiteboard --> eigenvalues\n",
    "* Decode the structure tensor: how do we compute it? Convolution!\n",
    "* Implement features.harris_score\n",
    "* Play with that on some images\n",
    "* Implement non-max suppression via maximum filter"
   ]
  },
  {
   "cell_type": "markdown",
   "id": "b72febe7-2780-4f03-955e-e6253d9b69c7",
   "metadata": {},
   "source": [
    "What makes good features?\n",
    "\n",
    "* Uniqueness: features **shouldn't** match if they're from different points in the scene. ",
    " ",
    "\n",
    "* Invariance: features **should** match if they do come from the same point in the scene. "
   ]
  },
  {
   "cell_type": "markdown",
   "id": "2dedf759-300a-45e8-949d-96eaff32c6ca",
   "metadata": {},
   "source": [
    "##### Homework Problem 1\n",
    "\n",
    "In terms of uniqueness and invariance, discuss why arbitrary single pixels, described using their RGB values, would not make good features for image matching."
   ]
  },
  {
   "cell_type": "markdown",
   "id": "eec79b9e-4cf1-42d3-b353-fb23e7e2bb5b",
   "metadata": {},
   "source": [
    "What might be a *little* bit better?"
   ]
  },
  {
   "cell_type": "code",
   "execution_count": null,
   "id": "ae5e4498-9dde-4ea0-aea4-8571dce73a28",
   "metadata": {},
   "outputs": [],
   "source": [
    "\n",
    "\n",
    "\n",
    "\n",
    "\n",
    "\n",
    "\n",
    "\n"
   ]
  },
  {
   "cell_type": "markdown",
   "id": "848fc61b-03f3-41d4-8cf7-a4e54b2816b6",
   "metadata": {},
   "source": [
    "Idea: patches. Is it perfect?\n",
    "\n",
    "![](../data/fences.jpg)\n",
    "\n",
    "No! But it's hard to imageine something that is. Let's settle for this and talk about how to find patches that will be **locally** unique."
   ]
  },
  {
   "cell_type": "markdown",
   "id": "79a1e607-89f6-4e7d-abd6-80eea8f81144",
   "metadata": {},
   "source": [
    "#### Whiteboard: Harris Corner Detection\n",
    "\n",
    "![](../data/harris.jpg)\n",
    "\n",
    "\n",
    "Here are the rough notes I used for the whiteboard presentation.\n",
    "\n",
    "Hey how much something changes in a direction... this sounds like a gradient magnitude!\n",
    "\n",
    "* Right angle example - this seems like it's going to work!\n",
    "* Diagonal line example - darn. This isn't going to work.\n",
    "\n",
    "Throw out the gradient idea and brute force it: compare a patch to all its neighbors. What do I mean by all?\n",
    "\n",
    "* Shift to every position (within a window) and compute a distance.\n",
    "  * $E(u, v) = \\sum_{x, y \\in W} \\left[ I(x+u, y+v) - I(x, y) \\right]^2$​​​\n",
    "  * For each pixel (x, y) in the window, compare the pixel at (u,v) offset from (x, y) to the un-offset (x, y)\n",
    "* **Q**: Suppose we did that, and got a window's worth of distance measurements. How would you turn that into a single cornerness score?\n",
    "  * **A**: The **minimum** distance would work - a large minimum distance means the most similar thing is not very similar."
   ]
  },
  {
   "cell_type": "markdown",
   "id": "d5f31922-21d4-4102-b2be-1ccb6959b914",
   "metadata": {},
   "source": [
    "Okay but this is really expensive. Let's linearize!\n",
    "\n",
    "Taylor expansion reminder:\n",
    "$$\n",
    "f(x) = f(a) + f'(a)(x-a) + f''(a)(x-a)^2 + \\ldots\n",
    "$$\n",
    "For a first-order (linear) Taylor approximation,\n",
    "$$\n",
    "f(x) \\approx f(a) + f'(a)(x-a)\n",
    "$$\n",
    "\n",
    "\n",
    "In our bivariate context:\n",
    "$$\n",
    "I(x+u, y+v) \\approx I(x, y) \n",
    "+ \\frac{\\partial{I}}{\\partial x} u \n",
    "+ \\frac{\\partial{I}}{\\partial y} v\n",
    "$$\n",
    "Look, the derivatives came back!\n",
    "\n",
    "Plug this into our \"error\" function:\n",
    "$$\n",
    "\\begin{align}\n",
    "E(u, v) &= \\sum_{x, y \\in W} \\left[  I(x+u, y+v) - I(x, y) \\right]^2\\\\\n",
    "&\\approx \\sum_{x, y \\in W} \\left[\n",
    "\tI(x, y) + \\frac{\\partial{I}}{\\partial x} u\n",
    "  \t\t\t\t\t\t\t+ \\frac{\\partial{I}}{\\partial y} v -  I(x, y))\\right]^2\\\\\n",
    "&\\approx \\sum_{x, y \\in W} \\left[\n",
    "\t\t\t\t\t\t\t\t  \\frac{\\partial{I}}{\\partial x} u\n",
    "                + \\frac{\\partial{I}}{\\partial y} v\\right]^2\n",
    "\\end{align}\n",
    "$$"
   ]
  },
  {
   "cell_type": "markdown",
   "id": "b43a75b5-b038-44b7-9534-9d73faf1564f",
   "metadata": {},
   "source": [
    "**Pause** At this point, it's fair to ask what the heck we're looking at.\n"
   ]
  },
  {
   "cell_type": "code",
   "execution_count": null,
   "id": "0baad59d-e0f4-450b-a108-a545fd5a218b",
   "metadata": {},
   "outputs": [],
   "source": [
    "from features import visualize_harris\n",
    "\n",
    "%matplotlib widget\n",
    "\n",
    "h = imageio.imread(\"../data/harris_crop.jpg\")\n",
    "h = skim.color.rgb2gray(h.astype(np.float32) / 255)\n",
    "\n",
    "hfull = imageio.imread(\"../data/harris.jpg\")\n",
    "hfull = filtering.down_2x(skim.color.rgb2gray(hfull.astype(np.float32) / 255))"
   ]
  },
  {
   "cell_type": "markdown",
   "id": "a1aa6531-b21f-492b-ab24-d4b90c0e83fc",
   "metadata": {},
   "source": [
    "Here's a visualization of the error function $E(u, v)$ as we shift a patch around in a real image.\n",
    "* Top left: the original image with the patch highlighted\n",
    "* Top right: the actual error computed by shifting that patch to each position in a (by defualt 13x13) windo.\n",
    "* Bottom left: the approximate error function computed by substituting the linearized approximation based on the derivatives.\n",
    "* Bottom right: a contour plot of the same data as the bottom left.\n",
    "\n",
    "Notice tha the top right and bottom left are 3D plots, so you can drag them to change views."
   ]
  },
  {
   "cell_type": "code",
   "execution_count": null,
   "id": "3713d046-3881-4297-9184-ced6cd241087",
   "metadata": {},
   "outputs": [],
   "source": [
    "# try:\n",
    "visualize_harris(h, 59, 85)\n",
    "# visualize_harris(h, 30, 60)\n",
    "# visualize_harris(h, 72, 60)\n",
    "# visualize_harris(h, 30, 26)"
   ]
  },
  {
   "cell_type": "markdown",
   "id": "2db19271-7ea8-4549-8d6e-f062004bb865",
   "metadata": {},
   "source": [
    "##### Homework Problem 2\n",
    "\n",
    "Play around with this visualization and answer the following:\n",
    "\n",
    "For each of the following (linearized) error function shapes, describe the image patch that gave rise to it:\n",
    "\n",
    "1. Flat in all directions\n",
    "2. Steep in one direction, flat in the orthogonal direction\n",
    "3. Steep in all directions"
   ]
  },
  {
   "cell_type": "code",
   "execution_count": null,
   "id": "c598be73-cd43-43a6-938b-1081dd5049f1",
   "metadata": {},
   "outputs": [],
   "source": [
    "\n",
    "\n",
    "\n",
    "\n",
    "\n",
    "\n",
    "\n",
    "\n",
    "\n",
    "\n",
    "\n",
    "\n",
    "\n",
    "\n"
   ]
  },
  {
   "cell_type": "markdown",
   "id": "54c79357-4602-451d-9140-e7ed87d87311",
   "metadata": {},
   "source": [
    "The linearized error function is now a 2D quadratic! We can see that depending on the image patch content, its shape varies in steepness in different directions. What we're after is points whose error is steep in all directions: these are least likely to be confused with their neighbors, or in other words, corner-like!\n",
    "\n",
    "Okay, onward with the math that will tell us about steepness-in-different-directions!"
   ]
  },
  {
   "cell_type": "markdown",
   "id": "c926cded-0493-4bfa-84e1-4034d5f6b6d7",
   "metadata": {},
   "source": [
    "Let's make some shorthand. Let:\n",
    "$$\n",
    "I_x = \\frac{\\partial{I}}{\\partial x}\n",
    "$$\n",
    "$$\n",
    "I_y = \\frac{\\partial{I}}{\\partial y}\n",
    "$$\n",
    "\n",
    "So now we have:\n",
    "$$\n",
    "E(u, v) \\approx \\sum_{x, y \\in W} \\left[ I_xu + I_yv \\right]^2\n",
    "$$\n",
    "FOIL!\n",
    "$$\n",
    "E(\\mathbf{u}) \\approx \\sum_{\\mathbf{x} \\in W} \\left[ I_x^2u^2 + 2I_xI_yuv + I_y^2v^2 \\right]\n",
    "$$\n",
    "Now rewrite this as a matrix-vector product:\n",
    "$$\n",
    "E(u, v) \\approx\n",
    "\\sum_{\\mathbf{x} \\in W} \\left(\n",
    "\\begin{bmatrix} u & v \\end{bmatrix}\n",
    "\\begin{bmatrix}\n",
    "I_x^2  & I_xI_y \\\\\n",
    "I_xI_y &  I_y^2 \\\\\n",
    "\\end{bmatrix}\n",
    "\\begin{bmatrix} u \\\\ v \\end{bmatrix}\n",
    "\\right)\n",
    "$$\n",
    "Pull the sums into the matrix:\n",
    "\n",
    "$$\n",
    "E(u, v) \\approx\n",
    "\\begin{bmatrix} u & v \\end{bmatrix}\n",
    "\\begin{bmatrix}\n",
    "\\sum I_x^2  & \\sum I_xI_y \\\\\n",
    "\\sum I_xI_y & \\sum I_y^2 \\\\\n",
    "\\end{bmatrix}\n",
    "\\begin{bmatrix} u \\\\ v \\end{bmatrix}\n",
    "$$\n",
    "This matrix is called the **structure tensor**, and it gives us a compact way to measure corneriness."
   ]
  },
  {
   "cell_type": "markdown",
   "id": "9c427c26-43bf-4422-8c67-9bf475a246eb",
   "metadata": {},
   "source": [
    "**Aside**: Long ago, we acknowledged that looking at gradient magnitudes seemed like a good idea, but a simple \"both must be large\" rule (e.g, by multiplying the two together) didn't get us what we needed because this was true for diagonal lines. At this point we're going to use some more math to arrive at a different way to combine the gradients that **is** only large when the feature is corner-like. The specifics of the math are here so you know where the formula comes from, but that's the heart of it - just a fancier way to combine gradients to tell when it's truly cornery."
   ]
  },
  {
   "cell_type": "markdown",
   "id": "10eb98a9-3981-47f5-b906-c0d2b1f00985",
   "metadata": {},
   "source": [
    "The error function we get after the linear approximation always represents a 2D quadratic (see the visualization examples in the notebook). That quadratic could be:\n",
    "* very wide and shallow (which happens for flat patches in the image)\n",
    "* wide in one direction but steep in the orthogonal direction (which happens for patches that lie on edges)\n",
    "* steep in all directions (which happens for corner patches)\n",
    "\n",
    "It turns out that the **eigenvectors and eigenvalues** of the structure tensor matrix above can tell us which of these cases we're in! You may recall that an eigenvector/eigenvalue pair is a vector $v$ and a scalar $\\lambda$ such that $Av = \\lambda v$. There's a geometric interpretation in which the eigenvectors and eigenvalues determine the major and minor axes of an ellipse:\n",
    "\n",
    "![](../data/harris_ellipse.jpg)\n",
    "\n",
    "Here, the ellipse traces out a line of constant value in the error function $E(u, v)$. The direction of the major and minor axes are determined by the eigenvectors ($\\mathbf{v}_1$ and $\\mathbf{v}_2$), while their lengths are inversely proportional to the (square root of) the eigenvalues. A small eigenvalue makes for a longer axis, while a larger eigenvalue makes for a shorter axis - in other words, you have to go less far to get a given amount of error.\n",
    "\n",
    "If corners are points where the error goes up really fast, then a good metric for corneriness is the size of the *smaller* eigenvalue. If both eigenvalues are large, then there is no direction you can move for very long while maintaining small error, or in other words, the patch cannot be confused with its neighbors in any direction. If either eigenvalue is small, then you can move in the direction of its eigenvector and maintain low error."
   ]
  },
  {
   "cell_type": "markdown",
   "id": "8e5c0bd1-4bc8-4cbd-a3b5-00a2305368f4",
   "metadata": {},
   "source": [
    "#### Computing it\n",
    "\n",
    "We're interested in the eigenvalues of the structure tensor matrix:\n",
    "\n",
    "$$\n",
    "\\begin{bmatrix}\n",
    "\\sum I_x^2  & \\sum I_xI_y \\\\\n",
    "\\sum I_xI_y & \\sum I_y^2 \\\\\n",
    "\\end{bmatrix}\n",
    "$$\n",
    "How do we actually compute this? \n",
    "\n",
    "Recall that the summations $\\left(\\sum\\right)$  are over all pixels in a window around the pixel in question. That sounds familiar... we can do this with convolution!\n",
    "\n",
    "Here's an approach that accomplishes this for every pixel in an image, all in one go:\n",
    "\n",
    "* Calculate gradients with sobel filters\n",
    "\n",
    "* From this, compute three images representing $I_x^2$,  $I_xI_y$, and $I_y^2$\n",
    "\n",
    "* Blur those with a convolution filter! \n",
    "\n",
    "  * As written, it'd be an un-normalized mean filter\n",
    "  * Let's use a Gaussian filter instead, for the same intuitive reason that we blur using Gaussians\n",
    "\n",
    "* Call those three blurred images $A, B, C$; we now have the elements of the matrix\n",
    "  $$\n",
    "  \\begin{bmatrix}\n",
    "  A  & B \\\\\n",
    "   B & C \\\\\n",
    "  \\end{bmatrix}\n",
    "  $$\n",
    "  for every pixel in the image! \n",
    "\n",
    "* Calculate its eigenvalues (I just looked up the formula):\n",
    "\n",
    "  * Let $d = AC - BB$​\n",
    "  * Let $t = \\frac{A+C}{2}$\n",
    "  * $ \\lambda_1, \\lambda_2 = t \\pm \\sqrt{t^2 - d}$\n",
    "\n",
    "* The smaller of these two at each pixel will be the Harris score!"
   ]
  },
  {
   "cell_type": "markdown",
   "id": "d6febd44-a6ee-48cf-910d-18220482e45d",
   "metadata": {},
   "source": [
    "##### Homework Problem 6\n",
    "\n",
    "Write psudeocode (or working Python code if you like, based on our lecture repository codebase) for Harris scores (i.e., smallest eigenvalue of the structure tensor for each pixel). You should make (exact or pseudocody) use of filtering and other routines that already exist in the lecture codebase.\n",
    "\n",
    "If you want to try it out, work in `features.py` and test it out with the code below!"
   ]
  },
  {
   "cell_type": "code",
   "execution_count": null,
   "id": "be121f8c-8d50-439e-bc55-e9ff19dd7d40",
   "metadata": {},
   "outputs": [],
   "source": [
    "%matplotlib inline\n",
    "\n",
    "import features\n",
    "\n",
    "img = h # hfull\n",
    "\n",
    "threshold = 0.3\n",
    "\n",
    "plt.figure(figsize=(10, 5))\n",
    "scores = features.harris_score(img)\n",
    "plt.imshow(scores)\n",
    "plt.colorbar()"
   ]
  },
  {
   "cell_type": "markdown",
   "id": "accfe4ca-822f-42e1-8eef-89e72cb8644c",
   "metadata": {},
   "source": [
    "Next steps: thresholding and non-maximum suppression"
   ]
  },
  {
   "cell_type": "code",
   "execution_count": null,
   "id": "51efcb54-bd13-4d14-bce8-92c00de93db5",
   "metadata": {},
   "outputs": [],
   "source": [
    "# threshold\n",
    "plt.imshow(scores > threshold)"
   ]
  },
  {
   "cell_type": "markdown",
   "id": "b1257c8d-c3a2-47e3-8d8e-4b72b8d070c9",
   "metadata": {},
   "source": [
    "Non-Maximum Suppression:\n",
    "1. Apply maximum filter\n",
    "2. Keep only pixels that are equal to the max-filtered image"
   ]
  },
  {
   "cell_type": "code",
   "execution_count": null,
   "id": "bed680b8-5999-4c6c-99da-2150708c6a52",
   "metadata": {},
   "outputs": [],
   "source": [
    "scores_maxfilter = filtering.maximum_filter(scores, 7)\n",
    "features_mask = np.logical_and(scores > threshold, scores == scores_maxfilter)\n",
    "plt.figure(figsize=(10, 10))\n",
    "plt.imshow(features.overlay_features(img, features_mask))"
   ]
  },
  {
   "cell_type": "code",
   "execution_count": null,
   "id": "5f414d14-6dd6-4f93-8e32-2b9e21e353b2",
   "metadata": {},
   "outputs": [],
   "source": [
    "# putting it all together:\n",
    "\n",
    "def harris(img, threshold):\n",
    "    scores = features.harris_score(img)\n",
    "    scores_maxfilter = filtering.maximum_filter(scores, 7)\n",
    "    features_mask = np.logical_and(scores > threshold, scores == scores_maxfilter)\n",
    "    plt.figure(figsize=(10, 10))\n",
    "    plt.imshow(features.overlay_features(img, features_mask))"
   ]
  },
  {
   "cell_type": "code",
   "execution_count": null,
   "id": "4698c8fb-f52d-426c-895c-58a3391fa5a8",
   "metadata": {},
   "outputs": [],
   "source": [
    "harris(h, 0.1)"
   ]
  }
 ],
 "metadata": {
  "kernelspec": {
   "display_name": "Python 3 (ipykernel)",
   "language": "python",
   "name": "python3"
  },
  "language_info": {
   "codemirror_mode": {
    "name": "ipython",
    "version": 3
   },
   "file_extension": ".py",
   "mimetype": "text/x-python",
   "name": "python",
   "nbconvert_exporter": "python",
   "pygments_lexer": "ipython3",
   "version": "3.11.2"
  }
 },
 "nbformat": 4,
 "nbformat_minor": 5
}
