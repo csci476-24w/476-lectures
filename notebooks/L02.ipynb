{
 "cells": [
  {
   "cell_type": "markdown",
   "id": "c3109b7e-0092-47a3-aca2-288e745731ba",
   "metadata": {
    "editable": true,
    "slideshow": {
     "slide_type": ""
    },
    "tags": []
   },
   "source": [
    "## Lecture 2"
   ]
  },
  {
   "cell_type": "markdown",
   "id": "c0357b50-2962-423e-85f1-80217ec3d134",
   "metadata": {},
   "source": [
    "#### Announcements\n",
    "\n",
    "* Thanks for filling out the survey - office hours will be announced soon.\n",
    "* Reminder that solutions for P01 and P02 are due Sunday night. Please typeset your answers."
   ]
  },
  {
   "cell_type": "markdown",
   "id": "38efd636-c09e-4d1f-a828-33e0fcc75686",
   "metadata": {
    "editable": true,
    "slideshow": {
     "slide_type": ""
    },
    "tags": []
   },
   "source": [
    "#### Goals\n",
    "\n",
    "* Know what is meant by image noise.\n",
    "* Know how to filter (v) an image by cross-correlating it with a given filter (n)/kernel/weights\n",
    "* Know how to handle image borders when filtering:\n",
    "  - output sizes: full / same / valid\n",
    "  - out-of-bounds values: zeros, reflection, replication\n",
    "* Get a feel for some of the image processing operations that can and can't be accomplished using linear filtering.\n",
    "  * Blur, sharpen, shift\n",
    "\n",
    "* Know the properties of the convolution and cross-correlation, and some of their implications:\n",
    "  * linearity, associativity, commutativity\n",
    "  * separable filters and other compound operations"
   ]
  },
  {
   "cell_type": "markdown",
   "id": "b022bf96-a8a7-4a95-91d5-537b9240c7ca",
   "metadata": {
    "editable": true,
    "slideshow": {
     "slide_type": ""
    },
    "tags": []
   },
   "source": [
    "#### Lesson Plan\n",
    "\n",
    "**Syllabus questions**\n",
    "\n",
    "Revisiting image formation: image noise\n",
    "\n",
    "Noise as motivation for **neighborhood operations**\n",
    "\n",
    "Live code: mean filter\n",
    "\n",
    "Edge handling choices:\n",
    "\n",
    "* full, same, valid output size\n",
    "* zero, reflect, repeat\n",
    "\n",
    "Write down the discrete math definition; aside: write down the continuous definition\n",
    "\n",
    "Live code: generalize to cross-correlation with filter weights\n",
    "\n",
    "Mess with the filter weights:\n",
    "\n",
    "* Horizontal blur\n",
    "* Emboss\n",
    "\n",
    "Exercise: compute a small cross-correlation result\n",
    "\n",
    "**Break**\n",
    "\n",
    "More filter weights:\n",
    "\n",
    "* Left shift\n",
    "\n",
    "Convolution vs cross-correlation\n",
    "\n",
    "Properties - shift invariance; linearity; commutativity; associativity\n",
    "\n",
    "Filter composition using associativity\n",
    "\n",
    "Tricks using these properties:\n",
    "\n",
    "* separable filters\n",
    "* Blurring sequentially\n",
    "* Sharpening"
   ]
  },
  {
   "cell_type": "code",
   "execution_count": null,
   "id": "4a295613-e6e3-4f35-b603-27b158385acc",
   "metadata": {},
   "outputs": [],
   "source": [
    "# boilerplate setup\n",
    "%load_ext autoreload\n",
    "%autoreload 2\n",
    "\n",
    "import os\n",
    "import sys\n",
    "\n",
    "src_path = os.path.abspath(\"../src\")\n",
    "if (src_path not in sys.path):\n",
    "    sys.path.insert(0, src_path)\n",
    "\n",
    "# Library imports\n",
    "import numpy as np\n",
    "import imageio.v3 as imageio\n",
    "import matplotlib.pyplot as plt\n",
    "import skimage as skim\n",
    "import cv2\n",
    "\n",
    "# codebase imports\n",
    "import util\n",
    "import filtering"
   ]
  },
  {
   "cell_type": "markdown",
   "id": "c488e742-09b7-4454-9b18-59e69022fed3",
   "metadata": {},
   "source": [
    "#### Image Formation Revisited\n",
    "\n",
    "How do we record light intensity inside a camera?\n",
    "* Film\n",
    "* Digital sensors\n",
    "\n",
    "![](https://upload.wikimedia.org/wikipedia/commons/thumb/6/63/2014_Ziarno_na_fotografii_analogowej.jpg/1920px-2014_Ziarno_na_fotografii_analogowej.jpg)\n",
    "![](digital_noise.jpg)\n"
   ]
  },
  {
   "cell_type": "markdown",
   "id": "cbed2d39-3ab2-4379-be50-5ae8fb755a15",
   "metadata": {},
   "source": [
    "Let's make beans a little noisy."
   ]
  },
  {
   "cell_type": "code",
   "execution_count": null,
   "id": "e8f466d4-74fd-44ae-9efd-299b54e94d05",
   "metadata": {},
   "outputs": [],
   "source": [
    "# don't worry about the details here, we're just adding noise to beans\n",
    "beans = imageio.imread(\"../data/beans.jpg\")\n",
    "bg = skim.color.rgb2gray(beans)\n",
    "bg = skim.transform.rescale(bg, 0.25, anti_aliasing=True)\n",
    "bn = bg + np.random.randn(*bg.shape) * 0.05\n",
    "plt.imshow(bn, cmap=\"gray\")"
   ]
  },
  {
   "cell_type": "markdown",
   "id": "c4d559fd-bb9a-42c9-88b5-6773f4e57bb9",
   "metadata": {},
   "source": [
    "### Brainstorm\n",
    "\n",
    "If each pixel measurement is corrupted, how can we improve our guess at what the \"ideal\" image should have been?"
   ]
  },
  {
   "cell_type": "code",
   "execution_count": null,
   "id": "2de138de-6788-4793-a2cc-86de3225eb32",
   "metadata": {},
   "outputs": [],
   "source": [
    "\n",
    "\n",
    "\n",
    "\n",
    "\n"
   ]
  },
  {
   "cell_type": "markdown",
   "id": "499c0b4b-f436-4a2e-a34e-74823d097332",
   "metadata": {},
   "source": [
    "Idea: mean filter\n",
    "\n",
    "Live-pseudocode:\n",
    "```python\n",
    "def mean_filter(img, filter_size):\n",
    "    \n",
    "```"
   ]
  },
  {
   "cell_type": "code",
   "execution_count": null,
   "id": "14454756-140c-48a0-895b-2932f37ecc99",
   "metadata": {},
   "outputs": [],
   "source": [
    "# Look at mean_filter\n",
    "plt.imshow(filtering.mean_filter(bn, 5), cmap=\"gray\")"
   ]
  },
  {
   "cell_type": "markdown",
   "id": "b2c02b2d-1d0e-4e5c-8fc8-130bbed111a2",
   "metadata": {},
   "source": [
    "#### Design Decisions - edge handling\n",
    "\n",
    "**(whiteboard)**\n",
    "\n",
    "Edge handling:\n",
    "\n",
    "Output size:\n",
    "* valid (only output where the whole filter overlaps the image)\n",
    "* same (output same size as input)\n",
    "* full (output everywhere the filter overlaps the image even a little bit)\n",
    "\n",
    "For anything but valid, how do you handle when the filter hangs over the void?\n",
    "* Zero padding\n",
    "* Repeat (replicate) padding\n",
    "* Reflect padding"
   ]
  },
  {
   "cell_type": "markdown",
   "id": "0af07190-b7e6-4f87-ab72-df423de125f5",
   "metadata": {},
   "source": [
    "#### Is a mean filter the best we can do?\n",
    "\n",
    "Another example\n"
   ]
  },
  {
   "cell_type": "code",
   "execution_count": null,
   "id": "2b7e7528-2ff4-49de-a079-5ee7dac5bf4f",
   "metadata": {},
   "outputs": [],
   "source": [
    "sticks = skim.color.rgb2gray(imageio.imread(\"sticks.png\"))\n",
    "\n",
    "plt.imshow(sticks, cmap=\"gray\")"
   ]
  },
  {
   "cell_type": "code",
   "execution_count": null,
   "id": "263b0ee5-6d4a-4aea-ab6e-043ef1d14d41",
   "metadata": {},
   "outputs": [],
   "source": [
    "plt.imshow(filtering.mean_filter(sticks, 9), cmap=\"gray\")"
   ]
  },
  {
   "cell_type": "markdown",
   "id": "ee8056a4-5f63-40c4-b6e6-3da10c1d5a2e",
   "metadata": {},
   "source": [
    "See the lattice-like artifacts? Ick. Why is this happening?\n",
    "\n",
    "Alternatives?\n",
    "* \n",
    "\n",
    "Here's one:"
   ]
  },
  {
   "cell_type": "code",
   "execution_count": null,
   "id": "8632f916-98b9-436b-8037-87cc3e092995",
   "metadata": {},
   "outputs": [],
   "source": [
    "plt.imshow(cv2.GaussianBlur(sticks, ksize=(9,9), sigmaX=2), cmap=\"gray\")"
   ]
  },
  {
   "cell_type": "markdown",
   "id": "60466776-a87d-4b7d-8418-540e3dc84c26",
   "metadata": {},
   "source": [
    "TODO: implement filtering.filter"
   ]
  },
  {
   "cell_type": "code",
   "execution_count": null,
   "id": "a179064c-b565-43c0-88ff-6cf7a2953018",
   "metadata": {},
   "outputs": [],
   "source": [
    "# test out the case of the mean filter we've been using\n",
    "f = np.ones((9,9)) / (9*9)\n",
    "\n",
    "plt.imshow(filtering.filter(sticks, f), cmap=\"gray\")\n"
   ]
  },
  {
   "cell_type": "code",
   "execution_count": null,
   "id": "a8d768a4-d4c8-40c0-a5b6-53cb91166b70",
   "metadata": {},
   "outputs": [],
   "source": [
    "# don't look behind the curtain!\n",
    "g = np.zeros((9, 9))\n",
    "g[4,4] = 1\n",
    "g = cv2.GaussianBlur(g, ksize=(9, 9), sigmaX=2)\n",
    "g /= g.sum()"
   ]
  },
  {
   "cell_type": "code",
   "execution_count": null,
   "id": "d4ba956d-7f34-46c2-96d6-b70328ba0556",
   "metadata": {},
   "outputs": [],
   "source": [
    "plt.imshow(filtering.filter(sticks, g), cmap=\"gray\")"
   ]
  },
  {
   "cell_type": "code",
   "execution_count": null,
   "id": "6da572aa-8d31-48d4-b62e-1212bfbfb227",
   "metadata": {},
   "outputs": [],
   "source": [
    "plt.imshow(f, cmap=\"gray\")\n",
    "plt.colorbar()"
   ]
  },
  {
   "cell_type": "code",
   "execution_count": null,
   "id": "4a17c350-bed1-4df4-bd85-4144723ed4d2",
   "metadata": {},
   "outputs": [],
   "source": [
    "plt.imshow(g, cmap=\"gray\")"
   ]
  },
  {
   "cell_type": "markdown",
   "id": "5a370d25-9a1d-4483-8fa9-f3ccf6e27811",
   "metadata": {},
   "source": [
    "### How would we calculate a Gaussian kernel ourselves?\n",
    "\n",
    "$$G(x, y) = \\frac{1}{2 \\pi \\sigma^2} e^\\frac{x^2 + y^2}{2 \\sigma^2}$$\n",
    "\n",
    "where:\n",
    "* $x, y$ are the spatial dimensions of the filter with (0,0) in the **center** of the kernel\n",
    "* $\\sigma$ is the standard deviation of the Gaussian, (determines how wide and flat vs tall and pointy it is)\n",
    "\n",
    "Practicalities when calculating this in real life:\n",
    "* You generally have to choose both a kernel size and a $\\sigma$.\n",
    "    * For a given kernel size, you can choose sigma so it fits $\\pm$ 3 standard deviations, $\\sigma = (k-1)/6$\n",
    "    * Or for a given sigma, the kernel size that fits $\\pm$ 3 standard deviations is $k = 2*\\mathrm{ceil}(3*\\sigma)+1$\n",
    "* Not all the mass under the Gaussian fits in a finite kernel, so we usually renormalize the kernel so the weights sum to 1."
   ]
  },
  {
   "cell_type": "markdown",
   "id": "580cff72-7ae9-4316-9221-0c3b9ade967f",
   "metadata": {},
   "source": [
    "#### HW Problems 1 - 4\n",
    "\n",
    "(1) $f \\otimes w$ indicates the *cross-correlation* of image $f$ with filter $w$. Compute the following cross-correlation using **same** output size and **zero** padding.\n",
    "   $$\n",
    "   \\begin{bmatrix}\n",
    "     0 & 1 & 0\\\\\n",
    "     0 & 1 & 0\\\\\n",
    "     0 & 1 & 0\n",
    "   \\end{bmatrix} \\otimes\n",
    "   \\begin{bmatrix}\n",
    "     1 & 2 & 1\\\\\n",
    "     2 & 4 & 2\\\\\n",
    "     1 & 2 & 1\n",
    "   \\end{bmatrix}\n",
    "   $$\n",
    "\n",
    "(2) Perform the same convolution as above, but use **repeat** padding.\n",
    "\n",
    "(3) Perform the same convolution as above, but use **valid** output size.\n",
    "\n",
    "(4) Describe in words the result of applying the following filter using cross-correlation. If you aren't sure, try applying it to the image above to gain intuition.\n",
    "\n",
    "$$\n",
    "\\begin{bmatrix}\n",
    "  0 & 0 & 0\\\\\n",
    "  0 & 0 & 1\\\\\n",
    "  0 & 0 & 0\n",
    "\\end{bmatrix}\n",
    "$$"
   ]
  },
  {
   "cell_type": "markdown",
   "id": "63987b7a-14ce-42db-b999-0c9eca569c5e",
   "metadata": {},
   "source": [
    "### What else could we do with this?\n",
    "\n",
    "Let's mess with filter weights to do weird stuff."
   ]
  },
  {
   "cell_type": "code",
   "execution_count": null,
   "id": "4fad03ff-a294-46fb-a092-d1ffd2b0418e",
   "metadata": {},
   "outputs": [],
   "source": [
    "h = np.array([\n",
    "    [0, 0, 0, 0, 0],\n",
    "    [0, 0, 0, 0, 0],\n",
    "    [1, 1, 1, 1, 1],\n",
    "    [0, 0, 0, 0, 0],\n",
    "    [0, 0, 0, 0, 0]],dtype=np.float64) / 5\n",
    "    \n",
    "plt.imshow(filtering.filter(bg, h), cmap=\"gray\")"
   ]
  },
  {
   "cell_type": "code",
   "execution_count": null,
   "id": "da54f38a-0811-4aab-8d04-eab63422ac39",
   "metadata": {},
   "outputs": [],
   "source": [
    "h = np.array([\n",
    "    [1,  0,  0,  0,  0],\n",
    "    [0,  1,  0,  0,  0],\n",
    "    [0,  0,  0,  0,  0],\n",
    "    [0,  0,  0, -1,  0],\n",
    "    [0,  0,  0,  0, -1]], dtype=np.float64)\n",
    "\n",
    "plt.imshow(filtering.filter(bg, h), cmap=\"gray\")\n",
    "plt.colorbar()"
   ]
  },
  {
   "cell_type": "markdown",
   "id": "e928d33b-1694-4557-a2ad-bc5fb964b088",
   "metadata": {},
   "source": [
    "## **Break**"
   ]
  },
  {
   "cell_type": "markdown",
   "id": "04f738e8-0395-468b-9beb-d59ed8f6add8",
   "metadata": {},
   "source": [
    "#### Math definitions\n",
    "\n",
    "Discrete cross-correlation:\n",
    "\n",
    "$$\n",
    "(f \\otimes g)(x, y) = \\sum_{j=-\\ell}^\\ell \\sum_{k=-\\ell}^\\ell f(x+j, y+k) * g(j, k)\n",
    "$$\n",
    "\n",
    "Turns out there's a continuous version of this too! Sums become integrals:\n",
    "\n",
    "$$\n",
    "(f \\otimes g)(x, y) = \\int_{j=-\\infty}^\\infty \\int_{k=-\\infty}^\\infty f(x+j, y+k) * g(j, k)\n",
    "$$\n",
    "Why $\\infty$? Assume zero outside the boundaries."
   ]
  },
  {
   "cell_type": "markdown",
   "id": "1a9d0b3e-99a7-4023-9c6f-5a43b1f5a33e",
   "metadata": {},
   "source": [
    "### Properties of Cross-Correlation\n",
    "\n",
    "Convolution vs cross-correlation\n",
    "\n",
    "Properties \n",
    "* Linearity: if $a$ is a scalar, $f$ is an image, and $g$, $h$ are filters, then:\n",
    "$$\\begin{align*}\n",
    "a(f \\otimes g) = f \\otimes ag = af \\otimes g \\\\\n",
    "(f \\otimes g) + (f \\otimes h) = f \\otimes (g + h)\n",
    "\\end{align*}$$\n",
    "* Associativity\n",
    "  $$\n",
    "  f \\otimes (g \\otimes h) = (f \\otimes g) \\otimes h\n",
    "  $$\n",
    "* Commutativity?\n",
    "  $$\n",
    "  f \\otimes g \\overset{?}{=} g \\otimes f\n",
    "  $$\n",
    "  Check:\n",
    "     $$\n",
    "   \\begin{bmatrix}\n",
    "     0 & 0 & 0\\\\\n",
    "     0 & 1 & 0\\\\\n",
    "     0 & 0 & 0\n",
    "   \\end{bmatrix} \\otimes\n",
    "   \\begin{bmatrix}\n",
    "     1 & 2 & 3\\\\\n",
    "     4 & 5 & 6\\\\\n",
    "     7 & 8 & 9\n",
    "  \\end{bmatrix}\n",
    "    \\overset{?}{=}\n",
    "    \\begin{bmatrix}\n",
    "     1 & 2 & 3\\\\\n",
    "     4 & 5 & 6\\\\\n",
    "     7 & 8 & 9\n",
    "  \\end{bmatrix}\n",
    "  \\otimes\n",
    "  \\begin{bmatrix}\n",
    "     0 & 0 & 0\\\\\n",
    "     0 & 1 & 0\\\\\n",
    "     0 & 0 & 0\n",
    "   \\end{bmatrix} \n",
    "  $$"
   ]
  },
  {
   "cell_type": "markdown",
   "id": "33eb79aa-7f0a-446c-a1f7-608423fd0a5a",
   "metadata": {},
   "source": [
    "**Aside:** The filter above (with just a 1 in the middle is called the **identity** filter."
   ]
  },
  {
   "cell_type": "markdown",
   "id": "233babb2-d63a-4fdd-b7fc-c140d15da030",
   "metadata": {},
   "source": [
    "### Convolution\n",
    "\n",
    "A small modification to cross-correlation yields **Convolution**:\n",
    "\n",
    "Cross-correlation ($\\otimes$):\n",
    "$$\n",
    "(f \\otimes g)(x, y) = \\sum_{j=-\\ell}^\\ell \\sum_{k=-\\ell}^\\ell f(x+j, y+k) * g(j, k)\n",
    "$$\n",
    "Convolution ($*$):\n",
    "$$\n",
    "(f * g)(x, y) = \\sum_{j=-\\ell}^\\ell \\sum_{k=-\\ell}^\\ell f(x-j, y-k) * g(j, k)\n",
    "$$\n",
    "\n",
    "This effectively **flips** the filter horizontally and vertically before applying it, and gains us **commutativity**."
   ]
  },
  {
   "cell_type": "markdown",
   "id": "7c3d8302-6542-4000-9486-ffe20f46cbbc",
   "metadata": {},
   "source": [
    "### Okay, what can we do with these properties?\n",
    "\n",
    "#### We can blur, but can we sharpen?\n",
    "\n",
    "Key question: what did blurring remove?\n",
    "\n",
    "$I - blur(I)$\n"
   ]
  },
  {
   "cell_type": "code",
   "execution_count": null,
   "id": "e152d8bf-68bb-4b4c-9d74-21aad5098a33",
   "metadata": {},
   "outputs": [],
   "source": [
    "orig = bg\n",
    "blurred = filtering.filter(bg, g)\n",
    "lost = orig - blurred\n",
    "\n",
    "plt.imshow(orig, cmap=\"gray\")\n",
    "\n"
   ]
  },
  {
   "cell_type": "code",
   "execution_count": null,
   "id": "87a48908-eeba-4b09-ba1c-bc6d8c7e49d0",
   "metadata": {},
   "outputs": [],
   "source": [
    "plt.imshow(blurred, cmap=\"gray\")"
   ]
  },
  {
   "cell_type": "code",
   "execution_count": null,
   "id": "76ce9b0d-832f-4ddc-9f65-577aa14f2a91",
   "metadata": {},
   "outputs": [],
   "source": [
    "plt.imshow(lost, cmap=\"gray\")"
   ]
  },
  {
   "cell_type": "markdown",
   "id": "6111284e-0e52-410c-ad17-ef4fa27601be",
   "metadata": {},
   "source": [
    "What if we add back what's lost?"
   ]
  },
  {
   "cell_type": "code",
   "execution_count": null,
   "id": "efe75378-7ea2-425c-b012-b8497af22aa2",
   "metadata": {},
   "outputs": [],
   "source": [
    "plt.imshow(np.hstack([orig, orig + lost]), cmap=\"gray\")"
   ]
  },
  {
   "cell_type": "markdown",
   "id": "5425df6d-0e76-4a99-8c10-e652994454a6",
   "metadata": {},
   "source": [
    "(whiteboard - equations here for posterity)\n",
    "\\begin{align*}\n",
    "I' &= I + (I - (I * G))\\\\\n",
    "   &= (I + I) - (I * G))\\\\\n",
    "   &= (I * D) - (I * G)\\\\\n",
    "   &= I * (D - G)\\\\\n",
    "\\end{align*}"
   ]
  },
  {
   "cell_type": "markdown",
   "id": "77a678fd-73d4-450c-b62e-ec3e62b3074f",
   "metadata": {},
   "source": [
    "Visual intuition:\n",
    "\n",
    "![](https://miro.medium.com/v2/resize:fit:720/format:webp/1*tvgDlagu7Tm7q7Y2Y6Gs0g.png)"
   ]
  },
  {
   "cell_type": "code",
   "execution_count": null,
   "id": "3a0cfa65-d1d6-40ad-85eb-cf3f6a4b69ea",
   "metadata": {},
   "outputs": [],
   "source": [
    "d  = np.zeros_like(g)\n",
    "d[4, 4] = 2\n",
    "\n",
    "sharp = d - g\n",
    "\n",
    "sharpened = filtering.filter(bg, sharp)\n",
    "plt.imshow(np.hstack([orig, sharpened]), cmap=\"gray\")\n"
   ]
  },
  {
   "cell_type": "markdown",
   "id": "1f82542b-21a5-4ab8-9986-0ba995c41213",
   "metadata": {},
   "source": [
    "\n",
    "#### Efficiency trick: separable filters"
   ]
  },
  {
   "cell_type": "markdown",
   "id": "058a0093-84be-4350-be92-a9e4c42ec02c",
   "metadata": {},
   "source": [
    "**Homework Problems 9-10**: \n",
    "\n",
    "9. Compute a 3x3 filter by convolving the following $1 \\times 3$ filter with its transpose using **full** output size and zero padding:\n",
    "   $$\n",
    "   \\begin{bmatrix}\n",
    "     1 & 2 & 1\\\\\n",
    "   \\end{bmatrix}\n",
    "   $$\n",
    "\n",
    "10. Suppose you have an  image $F$ and you want to apply a $3 \\times 3$ filter $H$ like the one above that can be written as $H = G * G^T$, where $G$ is $1 \\times 3$. Which of the following will be more efficient?\n",
    "   * $F * (G * G^T)$ \n",
    "   * $(F * G) * G^T$"
   ]
  },
  {
   "cell_type": "markdown",
   "id": "8b6e41aa-910b-47fc-a9d7-898ec4bf121c",
   "metadata": {},
   "source": [
    "### What *can't* we do with convolution?\n",
    "\n",
    "**Homework Problem 11**: \n",
    "\n",
    "(11) For each of the following, decide whether it's possible to design a convolution filter that performs the given operation.\n",
    "\n",
    "* Max filter: the output pixel is the maximum value among the pixels in the input window\n",
    "* Threshold: the output pixel is\n",
    "\n",
    "  * 255 if the input pixel is > 127\n",
    "  * 0 otherwise\n",
    "* $y$ partial derivative: the output is a finite-differences approximation of the input image's vertical derivative $\\frac{\\partial}{\\partial y}  f(x, y)$[^1] ."
   ]
  }
 ],
 "metadata": {
  "kernelspec": {
   "display_name": "Python 3 (ipykernel)",
   "language": "python",
   "name": "python3"
  },
  "language_info": {
   "codemirror_mode": {
    "name": "ipython",
    "version": 3
   },
   "file_extension": ".py",
   "mimetype": "text/x-python",
   "name": "python",
   "nbconvert_exporter": "python",
   "pygments_lexer": "ipython3",
   "version": "3.11.2"
  }
 },
 "nbformat": 4,
 "nbformat_minor": 5
}
